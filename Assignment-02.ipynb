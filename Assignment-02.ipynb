{
 "cells": [
  {
   "cell_type": "markdown",
   "id": "ac4cf745",
   "metadata": {},
   "source": [
    "# Assignment-02"
   ]
  },
  {
   "cell_type": "markdown",
   "id": "9e1449ae",
   "metadata": {},
   "source": [
    "01-Ask the user to enter a number. Print out the square of the number,\n",
    "Sample output is shown below."
   ]
  },
  {
   "cell_type": "code",
   "execution_count": 2,
   "id": "2e0da390",
   "metadata": {},
   "outputs": [
    {
     "name": "stdout",
     "output_type": "stream",
     "text": [
      "Enter a number: 357\n",
      "The square of 357.0 is: 127449.0\n"
     ]
    }
   ],
   "source": [
    "num = float(input(\"Enter a number: \"))\n",
    "\n",
    "square = num ** 2\n",
    "\n",
    "print(f\"The square of {num} is: {square}\")"
   ]
  },
  {
   "cell_type": "markdown",
   "id": "68e5a54d",
   "metadata": {},
   "source": [
    "02-Ask the user to enter a number x. print out x, 2x, 3x, 4x, and 5x,\n",
    "each separated by three dashes, like below."
   ]
  },
  {
   "cell_type": "code",
   "execution_count": 3,
   "id": "904a9c6e",
   "metadata": {},
   "outputs": [
    {
     "name": "stdout",
     "output_type": "stream",
     "text": [
      "Enter a number (x): 3\n",
      "3.0 --- 6.0 --- 9.0 --- 12.0 --- 15.0\n"
     ]
    }
   ],
   "source": [
    "# Get input from the user\n",
    "x = float(input(\"Enter a number (x): \"))\n",
    "\n",
    "# Print the multiples of x\n",
    "print(f\"{x} --- {2 * x} --- {3 * x} --- {4 * x} --- {5 * x}\")"
   ]
  },
  {
   "cell_type": "markdown",
   "id": "4b950549",
   "metadata": {},
   "source": [
    "03-Write a program that asks the user for a weight in kilograms and\n",
    "converts it to pounds. There are 2.2 pounds in a kilogram."
   ]
  },
  {
   "cell_type": "code",
   "execution_count": 4,
   "id": "4c1ecbaf",
   "metadata": {},
   "outputs": [
    {
     "name": "stdout",
     "output_type": "stream",
     "text": [
      "Enter weight in kilograms: 5\n",
      "5.0 kilograms is equal to 11.0 pounds.\n"
     ]
    }
   ],
   "source": [
    "weight_kg = float(input(\"Enter weight in kilograms: \"))\n",
    "\n",
    "conversion_factor = 2.2\n",
    "\n",
    "weight_pounds = weight_kg * conversion_factor\n",
    "\n",
    "print(f\"{weight_kg} kilograms is equal to {weight_pounds} pounds.\")"
   ]
  },
  {
   "cell_type": "markdown",
   "id": "d625b66b",
   "metadata": {},
   "source": [
    "04-Write a program that asks the user to enter three numbers (use three\n",
    "separate input statements).Create variables called total and average\n",
    "that hold the sum and average of the three numbers and print out the\n",
    "values of total and average."
   ]
  },
  {
   "cell_type": "code",
   "execution_count": 5,
   "id": "6464accd",
   "metadata": {},
   "outputs": [
    {
     "name": "stdout",
     "output_type": "stream",
     "text": [
      "Enter the first number: 3\n",
      "Enter the second number: 5\n",
      "Enter the third number: 7\n",
      "The total of 3.0, 5.0, and 7.0 is: 15.0\n",
      "The average of 3.0, 5.0, and 7.0 is: 5.0\n"
     ]
    }
   ],
   "source": [
    "num1 = float(input(\"Enter the first number: \"))\n",
    "num2 = float(input(\"Enter the second number: \"))\n",
    "num3 = float(input(\"Enter the third number: \"))\n",
    "\n",
    "total = num1 + num2 + num3\n",
    "average = total / 3\n",
    "\n",
    "print(f\"The total of {num1}, {num2}, and {num3} is: {total}\")\n",
    "print(f\"The average of {num1}, {num2}, and {num3} is: {average}\")"
   ]
  },
  {
   "cell_type": "markdown",
   "id": "fb3d7965",
   "metadata": {},
   "source": [
    "05-A lot of cell phones have tip calculators. Write one. Ask the user for\n",
    "the price of the meal and the percent tip they want to leave. Then\n",
    "print both the tip amount and the total bill with the tip included."
   ]
  },
  {
   "cell_type": "code",
   "execution_count": 7,
   "id": "2c5830a0",
   "metadata": {},
   "outputs": [
    {
     "name": "stdout",
     "output_type": "stream",
     "text": [
      "Enter the price of the meal: ₹100\n",
      "Enter the tip percentage you want to leave: 10\n",
      "Tip amount: ₹10.00\n",
      "Total bill (including tip): ₹110.00\n"
     ]
    }
   ],
   "source": [
    "meal_price = float(input(\"Enter the price of the meal: ₹\"))\n",
    "tip_percentage = float(input(\"Enter the tip percentage you want to leave: \"))\n",
    "\n",
    "tip_amount = meal_price * (tip_percentage / 100)\n",
    "total_bill = meal_price + tip_amount\n",
    "\n",
    "print(f\"Tip amount: ₹{tip_amount:.2f}\")\n",
    "print(f\"Total bill (including tip): ₹{total_bill:.2f}\")"
   ]
  },
  {
   "cell_type": "code",
   "execution_count": null,
   "id": "c8f38310",
   "metadata": {},
   "outputs": [],
   "source": []
  },
  {
   "cell_type": "markdown",
   "id": "d1c93af9",
   "metadata": {},
   "source": [
    "06-Let’s create a story between Father and daughter , You need to\n",
    "create a story by using print and input keywords\n",
    "You need to develop a python code same like below steps\n",
    "The goal of this code is to understand python is step by step\n",
    "process\n",
    "Step-1: Father: Hey Baby!\n",
    "Step-2: Daughter: Hello Dady\n",
    "Step-3: Father: I heard your exams are over, what about result\n",
    "Step-4: Daughter: Yes dad! Results are out.\n",
    "Step-5: Father: what is the percentage?\n",
    "Step-6: Daughter: I will give my subject wise marks , you tell me the\n",
    "percentage\n",
    "Step-7: Father : Okay!\n",
    "Step-8: First Language: 80\n",
    "Step-9: Second language: 90\n",
    "\n",
    "Step-10: Third language:90\n",
    "Step-11: Maths:85\n",
    "Step-12: Science: 80\n",
    "Step-13: Daughter: Dad Now tell me how much percentage I got\n",
    "Step-14: Father: Tell me the max marks of each subject\n",
    "Step-15: Daughter: its 100\n",
    "Step-16: calculate the percentage of marks and print it"
   ]
  },
  {
   "cell_type": "code",
   "execution_count": 12,
   "id": "448a39a5",
   "metadata": {},
   "outputs": [
    {
     "name": "stdout",
     "output_type": "stream",
     "text": [
      "Father: Hey Baby!\n",
      "Daughter: Hello Daddy\n",
      "hello\n",
      "Father: I heard your exams are over, what about the result?\n",
      "Daughter: Yes dad! Results are out.\n",
      "yes\n",
      "Father: What is the percentage?\n",
      "Daughter: I will give my subject-wise marks, you tell me the percentage\n",
      "85\n",
      "Father: Okay!\n",
      "First Language: 79\n",
      "Second Language: 86\n",
      "Third Language: 82\n",
      "Maths: 100\n",
      "Science: 100\n",
      "Daughter: Dad, now tell me how much percentage I got\n",
      "Father: Tell me the max marks of each subject\n",
      "Daughter: It's 100\n",
      "100\n",
      "Father: Your percentage is 89.40%\n"
     ]
    }
   ],
   "source": [
    "print(\"Father: Hey Baby!\")\n",
    "input(\"Daughter: Hello Daddy\\n\")\n",
    "\n",
    "print(\"Father: I heard your exams are over, what about the result?\")\n",
    "input(\"Daughter: Yes dad! Results are out.\\n\")\n",
    "\n",
    "print(\"Father: What is the percentage?\")\n",
    "input(\"Daughter: I will give my subject-wise marks, you tell me the percentage\\n\")\n",
    "print(\"Father: Okay!\")\n",
    "\n",
    "first_language = float(input(\"First Language: \"))\n",
    "second_language = float(input(\"Second Language: \"))\n",
    "third_language = float(input(\"Third Language: \"))\n",
    "maths = float(input(\"Maths: \"))\n",
    "science = float(input(\"Science: \"))\n",
    "\n",
    "print(\"Daughter: Dad, now tell me how much percentage I got\")\n",
    "print(\"Father: Tell me the max marks of each subject\")\n",
    "\n",
    "max_marks = float(input(\"Daughter: It's 100\\n\"))\n",
    "\n",
    "total_marks = first_language + second_language + third_language + maths + science\n",
    "percentage = (total_marks / (5 * max_marks)) * 100\n",
    "\n",
    "print(f\"Father: Your percentage is {percentage:.2f}%\")\n"
   ]
  },
  {
   "cell_type": "code",
   "execution_count": null,
   "id": "be2d480a",
   "metadata": {},
   "outputs": [],
   "source": []
  }
 ],
 "metadata": {
  "kernelspec": {
   "display_name": "Python 3 (ipykernel)",
   "language": "python",
   "name": "python3"
  },
  "language_info": {
   "codemirror_mode": {
    "name": "ipython",
    "version": 3
   },
   "file_extension": ".py",
   "mimetype": "text/x-python",
   "name": "python",
   "nbconvert_exporter": "python",
   "pygments_lexer": "ipython3",
   "version": "3.11.5"
  }
 },
 "nbformat": 4,
 "nbformat_minor": 5
}
