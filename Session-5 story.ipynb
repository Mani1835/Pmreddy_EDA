{
 "cells": [
  {
   "cell_type": "code",
   "execution_count": 1,
   "id": "065ef103",
   "metadata": {},
   "outputs": [],
   "source": [
    "# the conversation between Mother and daugther\n",
    "# Daughter : Hey mom\n",
    "# Mother : hello beta!\n",
    "# Daughter : Free buses\n",
    "# Mother : oh really!\n",
    "# Daughter : will go to grandmother house\n",
    "# Mother : Yes\n",
    "# Conductor : show me your identity card\n",
    "# Mother : No !\n",
    "# Conductor : Pay the  money\n",
    "# Mother : How much\n",
    "# Conductor : How many km you travel\n",
    "# Mother : 25 <km>\n",
    "# Conductor : 2rs/Km\n",
    "# Mother : 25*2:km*charge\n",
    "# Mother : 50/person 100 for both"
   ]
  },
  {
   "cell_type": "code",
   "execution_count": 6,
   "id": "0c6234da",
   "metadata": {},
   "outputs": [
    {
     "name": "stdout",
     "output_type": "stream",
     "text": [
      "====Conversation between Mother and Daughter====\n",
      "Daughter:hfu\n",
      "Mother:gfud\n",
      "Daughter:dgfuyd\n",
      "Mother:duyfgyd\n",
      "Daughter:ufgyud\n",
      "Mother:fgy\n",
      "==== Bus stop====\n",
      "Conductor:ggfg\n",
      "Mother:fhgf\n",
      "Conductor:ugfoys\n",
      "Mother:yuegfeiy\n",
      "Conductor:heyfge\n",
      "Mother:fuewgfey\n",
      "Conductor:egfiyte\n",
      "Mother:yegfye\n",
      "Mother:egfe\n"
     ]
    },
    {
     "data": {
      "text/plain": [
       "'egfe'"
      ]
     },
     "execution_count": 6,
     "metadata": {},
     "output_type": "execute_result"
    }
   ],
   "source": [
    "print(\"====Conversation between Mother and Daughter====\")\n",
    "input(\"Daughter:\")\n",
    "input(\"Mother:\")\n",
    "input(\"Daughter:\")\n",
    "input(\"Mother:\")\n",
    "input(\"Daughter:\")\n",
    "input(\"Mother:\")\n",
    "print(\"==== Bus stop====\")\n",
    "input(\"Conductor:\")\n",
    "input(\"Mother:\")\n",
    "input(\"Conductor:\")\n",
    "input(\"Mother:\")\n",
    "input(\"Conductor:\")\n",
    "input(\"Mother:\")\n",
    "input(\"Conductor:\")\n",
    "input(\"Mother:\")\n",
    "input(\"Mother:\")"
   ]
  },
  {
   "cell_type": "code",
   "execution_count": 7,
   "id": "46e338f4",
   "metadata": {},
   "outputs": [
    {
     "name": "stdout",
     "output_type": "stream",
     "text": [
      "===You went to bar===\n",
      "you:how much\n",
      "bar:800 rs\n",
      "you:i have only dollars\n",
      "bar:we accept only INR\n",
      "you:what should i do\n",
      "bar:will convert dollars into rupees\n",
      "you:how much one dollars into rupees\n",
      "bar:how many dollars you required=800/80=10\n",
      "you:ok 10 dollars\n",
      "bar:ok tq\n"
     ]
    },
    {
     "data": {
      "text/plain": [
       "'ok tq'"
      ]
     },
     "execution_count": 7,
     "metadata": {},
     "output_type": "execute_result"
    }
   ],
   "source": [
    "print(\"===You went to bar===\")\n",
    "input(\"you:\")\n",
    "input(\"bar:\")\n",
    "input(\"you:\")\n",
    "input(\"bar:\")\n",
    "input(\"you:\")\n",
    "input(\"bar:\")\n",
    "input(\"you:\")\n",
    "input(\"bar:\")\n",
    "input(\"you:\")\n",
    "input(\"bar:\")"
   ]
  },
  {
   "cell_type": "code",
   "execution_count": null,
   "id": "54e2d5ee",
   "metadata": {},
   "outputs": [],
   "source": [
    "print(\"===You went to bar===\")\n",
    "input(\"you:\")\n",
    "tota_bill = eval(input(\"bar:\"))\n",
    "input(\"you:\")\n",
    "input(\"bar:\")\n",
    "input(\"you:\")\n",
    "input(\"bar:\")\n",
    "oneDollar = eval(input(\"You :How much is bill\"))\n",
    "totalDollorToPay = total_bill/oneDollor\n",
    "print(f\"Bar: Give me {totalDollorToPay} dollor\")"
   ]
  },
  {
   "cell_type": "code",
   "execution_count": 19,
   "id": "d6994f25",
   "metadata": {},
   "outputs": [
    {
     "name": "stdout",
     "output_type": "stream",
     "text": [
      "You: how much the bill\n",
      "enter the bill:800\n",
      "Bar: 800\n",
      "You: I have only USD\n",
      "Bar: we accept INR only\n",
      "You: what should we do now\n",
      "Bar: Lets convert USD to INR\n",
      "You: How many INR is equal to 1 USD:80\n"
     ]
    }
   ],
   "source": [
    "import time\n",
    "\n",
    "print(\"You: how much the bill\")\n",
    "time.sleep(2)\n",
    "bill=eval(input(\"enter the bill:\"))\n",
    "time.sleep(2)\n",
    "print(\"Bar:\",bill)\n",
    "time.sleep(2)\n",
    "print(\"You: I have only USD\")\n",
    "time.sleep(2)\n",
    "print(\"Bar: we accept INR only\")\n",
    "time.sleep(2)\n",
    "print(\"You: what should we do now\")\n",
    "time.sleep(2)\n",
    "print(\"Bar: Lets convert USD to INR\")\n",
    "inr=eval(input(\"You: How many INR is equal to 1 USD:\"))\n",
    "total=bill/inr"
   ]
  },
  {
   "cell_type": "code",
   "execution_count": 20,
   "id": "a7c0502d",
   "metadata": {},
   "outputs": [
    {
     "data": {
      "text/plain": [
       "11.25"
      ]
     },
     "execution_count": 20,
     "metadata": {},
     "output_type": "execute_result"
    }
   ],
   "source": [
    "45/4   # 45 division 4"
   ]
  },
  {
   "cell_type": "code",
   "execution_count": 21,
   "id": "bd3c5b0c",
   "metadata": {},
   "outputs": [
    {
     "data": {
      "text/plain": [
       "1"
      ]
     },
     "execution_count": 21,
     "metadata": {},
     "output_type": "execute_result"
    }
   ],
   "source": [
    "45%4  # 45 modules 4"
   ]
  },
  {
   "cell_type": "code",
   "execution_count": 22,
   "id": "0db314f0",
   "metadata": {},
   "outputs": [
    {
     "data": {
      "text/plain": [
       "11"
      ]
     },
     "execution_count": 22,
     "metadata": {},
     "output_type": "execute_result"
    }
   ],
   "source": [
    "45//4  # 45 floor division 4"
   ]
  },
  {
   "cell_type": "markdown",
   "id": "891460ec",
   "metadata": {},
   "source": [
    "# $patten$ --1:\n",
    "if"
   ]
  },
  {
   "cell_type": "code",
   "execution_count": 26,
   "id": "eadefa00",
   "metadata": {},
   "outputs": [
    {
     "name": "stdout",
     "output_type": "stream",
     "text": [
      "Hello Pmreddy\n"
     ]
    }
   ],
   "source": [
    "name='python'\n",
    "if name=='python':\n",
    "    print(\"Hello Pmreddy\")"
   ]
  },
  {
   "cell_type": "code",
   "execution_count": 27,
   "id": "7f5ed23a",
   "metadata": {},
   "outputs": [
    {
     "name": "stdout",
     "output_type": "stream",
     "text": [
      "Hello Pmreddy\n"
     ]
    }
   ],
   "source": [
    "if True:\n",
    "    print(\"Hello Pmreddy\")"
   ]
  },
  {
   "cell_type": "code",
   "execution_count": 28,
   "id": "c1df7663",
   "metadata": {},
   "outputs": [],
   "source": [
    "if False:\n",
    "    print(\"Hello\")"
   ]
  },
  {
   "cell_type": "code",
   "execution_count": 31,
   "id": "7edc09bc",
   "metadata": {},
   "outputs": [
    {
     "name": "stdout",
     "output_type": "stream",
     "text": [
      "1\n",
      "2\n",
      "bye\n",
      "Hello Pmreddy\n",
      "Hai Pmreddy\n"
     ]
    }
   ],
   "source": [
    "print(1)\n",
    "print(2)\n",
    "if False:\n",
    "    print(\"hello\")\n",
    "    print(\"hai\")\n",
    "print(\"bye\")\n",
    "if True:\n",
    "    print(\"Hello Pmreddy\")\n",
    "    print(\"Hai Pmreddy\")"
   ]
  },
  {
   "cell_type": "markdown",
   "id": "1929dba7",
   "metadata": {},
   "source": [
    "# pattern - 2\n",
    "if-else"
   ]
  },
  {
   "cell_type": "code",
   "execution_count": 35,
   "id": "8ab371df",
   "metadata": {},
   "outputs": [
    {
     "name": "stdout",
     "output_type": "stream",
     "text": [
      "Hello Pmreddy\n"
     ]
    }
   ],
   "source": [
    "name='python'\n",
    "if name=='python':\n",
    "    print(\"Hello Pmreddy\")\n",
    "    \n",
    "else:\n",
    "    print(\"Bye\")"
   ]
  },
  {
   "cell_type": "code",
   "execution_count": 36,
   "id": "676a6aa3",
   "metadata": {},
   "outputs": [
    {
     "name": "stdout",
     "output_type": "stream",
     "text": [
      "Bye\n"
     ]
    }
   ],
   "source": [
    "name='python'\n",
    "if name=='Python':\n",
    "    print(\"Hello Pmreddy\")\n",
    "    \n",
    "else:\n",
    "    print(\"Bye\")"
   ]
  },
  {
   "cell_type": "code",
   "execution_count": 37,
   "id": "f03f14f1",
   "metadata": {},
   "outputs": [
    {
     "name": "stdout",
     "output_type": "stream",
     "text": [
      "Bye\n"
     ]
    }
   ],
   "source": [
    "name='Python'\n",
    "if name=='python':\n",
    "    print(\"Hello Pmreddy\")\n",
    "    \n",
    "else:\n",
    "    print(\"Bye\")"
   ]
  },
  {
   "cell_type": "code",
   "execution_count": 38,
   "id": "a6b192ca",
   "metadata": {},
   "outputs": [
    {
     "name": "stdout",
     "output_type": "stream",
     "text": [
      "Hello Pmreddy\n"
     ]
    }
   ],
   "source": [
    "name='Python'\n",
    "if name=='Python':\n",
    "    print(\"Hello Pmreddy\")\n",
    "    \n",
    "else:\n",
    "    print(\"Bye\")"
   ]
  },
  {
   "cell_type": "code",
   "execution_count": 41,
   "id": "cd15172e",
   "metadata": {},
   "outputs": [
    {
     "name": "stdout",
     "output_type": "stream",
     "text": [
      "enter the number:5\n",
      "5 is an odd\n"
     ]
    }
   ],
   "source": [
    "num=eval(input(\"enter the number:\"))\n",
    "if num%2==0:\n",
    "    print(f\"{num} is an even numbeer\")\n",
    "else:\n",
    "    print(f\"{num} is an odd\")"
   ]
  },
  {
   "cell_type": "code",
   "execution_count": null,
   "id": "5a5b5f13",
   "metadata": {},
   "outputs": [],
   "source": []
  }
 ],
 "metadata": {
  "kernelspec": {
   "display_name": "Python 3 (ipykernel)",
   "language": "python",
   "name": "python3"
  },
  "language_info": {
   "codemirror_mode": {
    "name": "ipython",
    "version": 3
   },
   "file_extension": ".py",
   "mimetype": "text/x-python",
   "name": "python",
   "nbconvert_exporter": "python",
   "pygments_lexer": "ipython3",
   "version": "3.11.5"
  }
 },
 "nbformat": 4,
 "nbformat_minor": 5
}
