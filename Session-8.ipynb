{
 "cells": [
  {
   "cell_type": "code",
   "execution_count": 1,
   "id": "1b90137c",
   "metadata": {},
   "outputs": [
    {
     "name": "stdout",
     "output_type": "stream",
     "text": [
      "hello\n",
      "hai\n",
      "enter a num1:3\n",
      "enter a num2:5\n",
      "8\n",
      "over\n"
     ]
    }
   ],
   "source": [
    "print(\"hello\")\n",
    "print(\"hai\")\n",
    "num1=eval(input(\"enter a num1:\"))\n",
    "num2=eval(input(\"enter a num2:\"))\n",
    "print(num1+num2)\n",
    "print(\"over\")"
   ]
  },
  {
   "cell_type": "code",
   "execution_count": null,
   "id": "8101f0d2",
   "metadata": {},
   "outputs": [],
   "source": []
  },
  {
   "cell_type": "markdown",
   "id": "2447ebed",
   "metadata": {},
   "source": [
    "Exception Handling"
   ]
  },
  {
   "cell_type": "code",
   "execution_count": null,
   "id": "ab93f5b0",
   "metadata": {},
   "outputs": [],
   "source": [
    "try-except"
   ]
  },
  {
   "cell_type": "code",
   "execution_count": null,
   "id": "0341ca73",
   "metadata": {},
   "outputs": [],
   "source": [
    "try:\n",
    "    ###Actual code\n",
    "except:\n",
    "    ### when ever you will encounter error in try bolck\n",
    "    ### then you will be in except block"
   ]
  },
  {
   "cell_type": "code",
   "execution_count": 3,
   "id": "b296a289",
   "metadata": {},
   "outputs": [
    {
     "name": "stdout",
     "output_type": "stream",
     "text": [
      "enter a num1:10\n",
      "enter a num2:5\n",
      "15\n"
     ]
    }
   ],
   "source": [
    "num1=eval(input(\"enter a num1:\"))\n",
    "num2=eval(input(\"enter a num2:\"))\n",
    "print(num1+num2)"
   ]
  },
  {
   "cell_type": "code",
   "execution_count": 7,
   "id": "55484898",
   "metadata": {},
   "outputs": [
    {
     "name": "stdout",
     "output_type": "stream",
     "text": [
      "enter a num1:0\n",
      "enter a num2:20\n",
      "0.0\n"
     ]
    }
   ],
   "source": [
    "try:\n",
    "    num1=eval(input(\"enter a num1:\"))\n",
    "    num2=eval(input(\"enter a num2:\"))\n",
    "    print(num1/num2)\n",
    "    \n",
    "except:\n",
    "    print(\"zero division error\")"
   ]
  },
  {
   "cell_type": "code",
   "execution_count": 9,
   "id": "5afd891a",
   "metadata": {},
   "outputs": [
    {
     "name": "stdout",
     "output_type": "stream",
     "text": [
      "enter a num1:20\n",
      "enter a num2:0\n",
      "zero division error\n",
      "hello\n"
     ]
    }
   ],
   "source": [
    "try:\n",
    "    num1=eval(input(\"enter a num1:\"))\n",
    "    num2=eval(input(\"enter a num2:\"))\n",
    "    print(num1/num2)\n",
    "    \n",
    "except:\n",
    "    print(\"zero division error\")\n",
    "    print(\"hello\")"
   ]
  },
  {
   "cell_type": "code",
   "execution_count": 10,
   "id": "c4a3191a",
   "metadata": {},
   "outputs": [
    {
     "name": "stdout",
     "output_type": "stream",
     "text": [
      "hello\n",
      "python\n",
      "zero division error\n",
      "okey\n",
      "1\n",
      "2\n",
      "hellopython\n"
     ]
    }
   ],
   "source": [
    "str1='hello'\n",
    "str2='python'\n",
    "print(str1)\n",
    "print(str2)\n",
    "try:\n",
    "    n1=20\n",
    "    n2=0\n",
    "    print(n1/n2)\n",
    "except:\n",
    "    print(\"zero division error\")\n",
    "    print('okey')\n",
    "    \n",
    "print(1)\n",
    "print(2)\n",
    "print(str1+str2)"
   ]
  },
  {
   "cell_type": "code",
   "execution_count": 11,
   "id": "dff62bae",
   "metadata": {},
   "outputs": [
    {
     "name": "stdout",
     "output_type": "stream",
     "text": [
      "enter a num1:10\n",
      "enter a num2:mani\n",
      "name 'mani' is not defined\n"
     ]
    }
   ],
   "source": [
    "try:\n",
    "    num1=eval(input(\"enter a num1:\"))\n",
    "    num2=eval(input(\"enter a num2:\"))\n",
    "    print(num1/num2)\n",
    "    \n",
    "except Exception as e:\n",
    "    print(e)"
   ]
  },
  {
   "cell_type": "code",
   "execution_count": 12,
   "id": "f0483b11",
   "metadata": {},
   "outputs": [
    {
     "name": "stdout",
     "output_type": "stream",
     "text": [
      "enter a number:30\n",
      "30 is an even\n"
     ]
    }
   ],
   "source": [
    "try:\n",
    "    num=eval(input(\"enter a number:\"))\n",
    "    if num%2==0:\n",
    "        print(f\"{num} is an even\")\n",
    "    else:\n",
    "        print(f\"{num} is an odd\")\n",
    "        \n",
    "except Exception as e:\n",
    "    print(e)"
   ]
  },
  {
   "cell_type": "code",
   "execution_count": 17,
   "id": "a4f08e85",
   "metadata": {},
   "outputs": [
    {
     "name": "stdout",
     "output_type": "stream",
     "text": [
      "enter the number:77\n",
      "greater than or equal to 50\n"
     ]
    }
   ],
   "source": [
    "try:\n",
    "    num=eval(input(\"enter the number:\"))\n",
    "    if num>=50:\n",
    "        print(\"greater than or equal to 50\")\n",
    "    else:\n",
    "        print(\"less than 50\")\n",
    "except Exception as e:\n",
    "    print(e)"
   ]
  },
  {
   "cell_type": "code",
   "execution_count": null,
   "id": "e4e7e46e",
   "metadata": {},
   "outputs": [],
   "source": []
  }
 ],
 "metadata": {
  "kernelspec": {
   "display_name": "Python 3 (ipykernel)",
   "language": "python",
   "name": "python3"
  },
  "language_info": {
   "codemirror_mode": {
    "name": "ipython",
    "version": 3
   },
   "file_extension": ".py",
   "mimetype": "text/x-python",
   "name": "python",
   "nbconvert_exporter": "python",
   "pygments_lexer": "ipython3",
   "version": "3.11.5"
  }
 },
 "nbformat": 4,
 "nbformat_minor": 5
}
