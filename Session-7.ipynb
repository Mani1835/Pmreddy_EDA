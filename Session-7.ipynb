{
 "cells": [
  {
   "cell_type": "code",
   "execution_count": 1,
   "id": "343ee41a",
   "metadata": {},
   "outputs": [
    {
     "data": {
      "text/plain": [
       "float"
      ]
     },
     "execution_count": 1,
     "metadata": {},
     "output_type": "execute_result"
    }
   ],
   "source": [
    "type(10.5)"
   ]
  },
  {
   "cell_type": "code",
   "execution_count": 2,
   "id": "7164f2d3",
   "metadata": {},
   "outputs": [
    {
     "data": {
      "text/plain": [
       "10"
      ]
     },
     "execution_count": 2,
     "metadata": {},
     "output_type": "execute_result"
    }
   ],
   "source": [
    "int(10.5)"
   ]
  },
  {
   "cell_type": "code",
   "execution_count": 3,
   "id": "f2342559",
   "metadata": {},
   "outputs": [
    {
     "data": {
      "text/plain": [
       "'10.5'"
      ]
     },
     "execution_count": 3,
     "metadata": {},
     "output_type": "execute_result"
    }
   ],
   "source": [
    "str(10.5)"
   ]
  },
  {
   "cell_type": "markdown",
   "id": "6276dfc7",
   "metadata": {},
   "source": [
    "- int\n",
    "    - bin\n",
    "    - oct\n",
    "    - hex\n",
    "- float\n",
    "- str\n",
    "- bool\n",
    "- complex\n",
    "- int float str"
   ]
  },
  {
   "cell_type": "code",
   "execution_count": 8,
   "id": "ce0c45aa",
   "metadata": {},
   "outputs": [
    {
     "name": "stdout",
     "output_type": "stream",
     "text": [
      "10\n",
      "10.5\n",
      "True\n",
      "(10.5+0j)\n"
     ]
    }
   ],
   "source": [
    "print(int(10.5)) \n",
    "print(str(10.5))\n",
    "print(bool(10.5))\n",
    "print(complex(10.5))"
   ]
  },
  {
   "cell_type": "code",
   "execution_count": 9,
   "id": "88c7f16c",
   "metadata": {},
   "outputs": [
    {
     "data": {
      "text/plain": [
       "False"
      ]
     },
     "execution_count": 9,
     "metadata": {},
     "output_type": "execute_result"
    }
   ],
   "source": [
    "bool(0)"
   ]
  },
  {
   "cell_type": "code",
   "execution_count": 10,
   "id": "931e3db2",
   "metadata": {},
   "outputs": [
    {
     "name": "stdout",
     "output_type": "stream",
     "text": [
      "10.0\n"
     ]
    }
   ],
   "source": [
    "print(float(10)) "
   ]
  },
  {
   "cell_type": "code",
   "execution_count": 11,
   "id": "df671a6b",
   "metadata": {},
   "outputs": [
    {
     "name": "stdout",
     "output_type": "stream",
     "text": [
      "10\n"
     ]
    }
   ],
   "source": [
    "print(str(10))\n"
   ]
  },
  {
   "cell_type": "code",
   "execution_count": 12,
   "id": "30033ea1",
   "metadata": {},
   "outputs": [
    {
     "name": "stdout",
     "output_type": "stream",
     "text": [
      "True\n"
     ]
    }
   ],
   "source": [
    "print(bool(10))\n"
   ]
  },
  {
   "cell_type": "code",
   "execution_count": 13,
   "id": "d7aefe95",
   "metadata": {},
   "outputs": [
    {
     "name": "stdout",
     "output_type": "stream",
     "text": [
      "(10+0j)\n"
     ]
    }
   ],
   "source": [
    "print(complex(10))"
   ]
  },
  {
   "cell_type": "code",
   "execution_count": 14,
   "id": "d4df3b77",
   "metadata": {},
   "outputs": [
    {
     "name": "stdout",
     "output_type": "stream",
     "text": [
      "10.0\n",
      "10\n",
      "True\n",
      "(10+0j)\n"
     ]
    }
   ],
   "source": [
    "print(float('10')) \n",
    "print(str('10'))\n",
    "print(bool('10'))\n",
    "print(complex('10'))"
   ]
  },
  {
   "cell_type": "code",
   "execution_count": 17,
   "id": "33649522",
   "metadata": {},
   "outputs": [
    {
     "name": "stdout",
     "output_type": "stream",
     "text": [
      "10.5\n",
      "True\n",
      "(10.5+0j)\n"
     ]
    }
   ],
   "source": [
    "print(float('10.5')) \n",
    "#print(int('10.5'))\n",
    "print(bool('10.5'))\n",
    "print(complex('10.5'))"
   ]
  },
  {
   "cell_type": "code",
   "execution_count": 18,
   "id": "42dae3ff",
   "metadata": {},
   "outputs": [
    {
     "data": {
      "text/plain": [
       "10"
      ]
     },
     "execution_count": 18,
     "metadata": {},
     "output_type": "execute_result"
    }
   ],
   "source": [
    "int(float('10.5'))"
   ]
  },
  {
   "cell_type": "code",
   "execution_count": 19,
   "id": "118fa87f",
   "metadata": {},
   "outputs": [
    {
     "name": "stdout",
     "output_type": "stream",
     "text": [
      "enter a bill:1000\n",
      "enter the tip in %:10\n"
     ]
    },
    {
     "data": {
      "text/plain": [
       "1100.0"
      ]
     },
     "execution_count": 19,
     "metadata": {},
     "output_type": "execute_result"
    }
   ],
   "source": [
    "bill=int(input(\"enter a bill:\"))\n",
    "tip=int(input(\"enter the tip in %:\"))\n",
    "tip_amount=bill*tip/100\n",
    "total_amount=bill+tip_amount\n",
    "total_amount"
   ]
  },
  {
   "cell_type": "code",
   "execution_count": 20,
   "id": "ec66e18f",
   "metadata": {},
   "outputs": [
    {
     "name": "stdout",
     "output_type": "stream",
     "text": [
      "hello\n",
      "what is your name\n",
      "my name is python\n"
     ]
    }
   ],
   "source": [
    "print(\"hello\")\n",
    "print(\"what is your name\")\n",
    "print(\"my name is python\")\n",
    "\n"
   ]
  },
  {
   "cell_type": "code",
   "execution_count": 21,
   "id": "dace56bc",
   "metadata": {},
   "outputs": [
    {
     "name": "stdout",
     "output_type": "stream",
     "text": [
      "enteer the age:65\n",
      "sc\n"
     ]
    }
   ],
   "source": [
    "age=eval(input(\"enteer the age:\"))\n",
    "if age>=60:\n",
    "    print(\"sc\")\n",
    "    \n",
    "elif age>=45:\n",
    "    print(\"MA\")\n",
    "    \n",
    "elif age>=30:\n",
    "    print(\"aged\")"
   ]
  },
  {
   "cell_type": "code",
   "execution_count": 22,
   "id": "e37cae57",
   "metadata": {},
   "outputs": [
    {
     "name": "stdout",
     "output_type": "stream",
     "text": [
      "enteer the age:23\n"
     ]
    }
   ],
   "source": [
    "age=eval(input(\"enteer the age:\"))\n",
    "if age>=60:\n",
    "    print(\"sc\")\n",
    "    \n",
    "elif age>=45:\n",
    "    print(\"MA\")\n",
    "    \n",
    "elif age>=30:\n",
    "    print(\"aged\")"
   ]
  },
  {
   "cell_type": "code",
   "execution_count": 23,
   "id": "8c6f4bf9",
   "metadata": {},
   "outputs": [
    {
     "name": "stdout",
     "output_type": "stream",
     "text": [
      "enteer the age:55\n",
      "MA\n"
     ]
    }
   ],
   "source": [
    "age=eval(input(\"enteer the age:\"))\n",
    "if age>=60:\n",
    "    print(\"sc\")\n",
    "    \n",
    "elif age>=45:\n",
    "    print(\"MA\")\n",
    "    \n",
    "elif age>=30:\n",
    "    print(\"aged\")"
   ]
  },
  {
   "cell_type": "code",
   "execution_count": 29,
   "id": "343281fc",
   "metadata": {},
   "outputs": [
    {
     "name": "stdout",
     "output_type": "stream",
     "text": [
      "enter the gendermale\n",
      "enter the age45\n",
      "notaged\n"
     ]
    }
   ],
   "source": [
    "gender=input(\"enter the gender\")\n",
    "if gender=='male':\n",
    "    age=eval(input(\"enter the age\"))\n",
    "    if age>50:\n",
    "        print(\"aged\")\n",
    "    else:\n",
    "        print(\"notaged\")\n",
    "elif gender=='female':\n",
    "    age=eval(input(\"enter the age\"))\n",
    "    if age>50:\n",
    "        print(\"aged\")\n",
    "    else:\n",
    "        print(\"notaged\")\n",
    "else:\n",
    "    print(\"enter a proper output\")"
   ]
  },
  {
   "cell_type": "code",
   "execution_count": 30,
   "id": "8c492126",
   "metadata": {},
   "outputs": [
    {
     "name": "stdout",
     "output_type": "stream",
     "text": [
      "enter the genderfemale\n",
      "enter the age66\n",
      "aged\n"
     ]
    }
   ],
   "source": [
    "gender=input(\"enter the gender\")\n",
    "if gender=='male':\n",
    "    age=eval(input(\"enter the age\"))\n",
    "    if age>50:\n",
    "        print(\"aged\")\n",
    "    else:\n",
    "        print(\"notaged\")\n",
    "elif gender=='female':\n",
    "    age=eval(input(\"enter the age\"))\n",
    "    if age>50:\n",
    "        print(\"aged\")\n",
    "    else:\n",
    "        print(\"notaged\")\n",
    "else:\n",
    "    print(\"enter a proper output\")\n"
   ]
  },
  {
   "cell_type": "code",
   "execution_count": 31,
   "id": "8c5b944e",
   "metadata": {},
   "outputs": [
    {
     "name": "stdout",
     "output_type": "stream",
     "text": [
      "enter the gender5gdg\n",
      "enter a proper output\n"
     ]
    }
   ],
   "source": [
    "gender=input(\"enter the gender\")\n",
    "if gender=='male':\n",
    "    age=eval(input(\"enter the age\"))\n",
    "    if age>50:\n",
    "        print(\"aged\")\n",
    "    else:\n",
    "        print(\"notaged\")\n",
    "elif gender=='female':\n",
    "    age=eval(input(\"enter the age\"))\n",
    "    if age>50:\n",
    "        print(\"aged\")\n",
    "    else:\n",
    "        print(\"notaged\")\n",
    "else:\n",
    "    print(\"enter a proper output\")"
   ]
  },
  {
   "cell_type": "code",
   "execution_count": null,
   "id": "49c31776",
   "metadata": {},
   "outputs": [],
   "source": []
  }
 ],
 "metadata": {
  "kernelspec": {
   "display_name": "Python 3 (ipykernel)",
   "language": "python",
   "name": "python3"
  },
  "language_info": {
   "codemirror_mode": {
    "name": "ipython",
    "version": 3
   },
   "file_extension": ".py",
   "mimetype": "text/x-python",
   "name": "python",
   "nbconvert_exporter": "python",
   "pygments_lexer": "ipython3",
   "version": "3.11.5"
  }
 },
 "nbformat": 4,
 "nbformat_minor": 5
}
