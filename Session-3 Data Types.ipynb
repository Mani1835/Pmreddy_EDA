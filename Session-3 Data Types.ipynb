{
 "cells": [
  {
   "cell_type": "code",
   "execution_count": 1,
   "id": "44837768",
   "metadata": {},
   "outputs": [],
   "source": [
    "# In python we have some basic data types"
   ]
  },
  {
   "cell_type": "markdown",
   "id": "8242a197",
   "metadata": {},
   "source": [
    "- interger int\n",
    "- float float\n",
    "- string str\n",
    "- boolen bool\n",
    "- complex complex\n"
   ]
  },
  {
   "cell_type": "markdown",
   "id": "deb5248c",
   "metadata": {},
   "source": [
    "# integer"
   ]
  },
  {
   "cell_type": "code",
   "execution_count": 2,
   "id": "787b71f9",
   "metadata": {},
   "outputs": [
    {
     "data": {
      "text/plain": [
       "10"
      ]
     },
     "execution_count": 2,
     "metadata": {},
     "output_type": "execute_result"
    }
   ],
   "source": [
    "number=10\n",
    "number"
   ]
  },
  {
   "cell_type": "code",
   "execution_count": 3,
   "id": "0f2c418f",
   "metadata": {},
   "outputs": [
    {
     "data": {
      "text/plain": [
       "int"
      ]
     },
     "execution_count": 3,
     "metadata": {},
     "output_type": "execute_result"
    }
   ],
   "source": [
    "type(number)"
   ]
  },
  {
   "cell_type": "markdown",
   "id": "1dd5c726",
   "metadata": {},
   "source": [
    "- binary\n",
    "- octa\n",
    "- hexa"
   ]
  },
  {
   "cell_type": "markdown",
   "id": "9720d25e",
   "metadata": {},
   "source": [
    "$binary$"
   ]
  },
  {
   "cell_type": "markdown",
   "id": "4184e457",
   "metadata": {},
   "source": [
    "- bi mean two\n",
    "- it required only two digits\n",
    "- we have 0 1 2 3 4 5 6 7 8 9\n",
    "- to make binary we need only 0 and 1\n",
    "- example: 0b111, 0B111"
   ]
  },
  {
   "cell_type": "code",
   "execution_count": 7,
   "id": "908b5dfe",
   "metadata": {},
   "outputs": [
    {
     "data": {
      "text/plain": [
       "7"
      ]
     },
     "execution_count": 7,
     "metadata": {},
     "output_type": "execute_result"
    }
   ],
   "source": [
    "0b111"
   ]
  },
  {
   "cell_type": "code",
   "execution_count": 9,
   "id": "90e64160",
   "metadata": {},
   "outputs": [
    {
     "data": {
      "text/plain": [
       "15"
      ]
     },
     "execution_count": 9,
     "metadata": {},
     "output_type": "execute_result"
    }
   ],
   "source": [
    "0b1111"
   ]
  },
  {
   "cell_type": "code",
   "execution_count": null,
   "id": "e2460566",
   "metadata": {},
   "outputs": [],
   "source": [
    "4 2 1\n",
    "0 0 0\n",
    "0 0 1\n",
    "0 1 0\n",
    "0 1 1\n",
    "1 0 0\n",
    "1 0 1\n",
    "1 1 0\n",
    "1 1 1"
   ]
  },
  {
   "cell_type": "markdown",
   "id": "4e292aa4",
   "metadata": {},
   "source": [
    "$octa$"
   ]
  },
  {
   "cell_type": "code",
   "execution_count": null,
   "id": "2be10024",
   "metadata": {},
   "outputs": [],
   "source": []
  },
  {
   "cell_type": "code",
   "execution_count": null,
   "id": "da7234d1",
   "metadata": {},
   "outputs": [],
   "source": []
  },
  {
   "cell_type": "code",
   "execution_count": null,
   "id": "26666c53",
   "metadata": {},
   "outputs": [],
   "source": []
  },
  {
   "cell_type": "markdown",
   "id": "bb8ee93d",
   "metadata": {},
   "source": [
    "float"
   ]
  },
  {
   "cell_type": "code",
   "execution_count": 10,
   "id": "dcdaf2e7",
   "metadata": {},
   "outputs": [
    {
     "data": {
      "text/plain": [
       "0.001"
      ]
     },
     "execution_count": 10,
     "metadata": {},
     "output_type": "execute_result"
    }
   ],
   "source": [
    "10/10000"
   ]
  },
  {
   "cell_type": "code",
   "execution_count": 11,
   "id": "d98c7979",
   "metadata": {},
   "outputs": [
    {
     "data": {
      "text/plain": [
       "1e-05"
      ]
     },
     "execution_count": 11,
     "metadata": {},
     "output_type": "execute_result"
    }
   ],
   "source": [
    "10/1000000"
   ]
  },
  {
   "cell_type": "code",
   "execution_count": 14,
   "id": "76b51ec9",
   "metadata": {},
   "outputs": [
    {
     "data": {
      "text/plain": [
       "10000000"
      ]
     },
     "execution_count": 14,
     "metadata": {},
     "output_type": "execute_result"
    }
   ],
   "source": [
    "10*1000000"
   ]
  },
  {
   "cell_type": "code",
   "execution_count": 15,
   "id": "61f57deb",
   "metadata": {},
   "outputs": [
    {
     "data": {
      "text/plain": [
       "123.45"
      ]
     },
     "execution_count": 15,
     "metadata": {},
     "output_type": "execute_result"
    }
   ],
   "source": [
    "10e-1\n",
    "10e-2\n",
    "10e-3\n",
    "10e-4\n",
    "10e+5\n",
    "12345e-2"
   ]
  },
  {
   "cell_type": "code",
   "execution_count": 16,
   "id": "68334acf",
   "metadata": {},
   "outputs": [
    {
     "data": {
      "text/plain": [
       "1.2345e-06"
      ]
     },
     "execution_count": 16,
     "metadata": {},
     "output_type": "execute_result"
    }
   ],
   "source": [
    "12345e-10"
   ]
  },
  {
   "cell_type": "markdown",
   "id": "7d4446c9",
   "metadata": {},
   "source": [
    "- 10e2 as same as 10e+2 multiplying\n",
    "- 10e-2 means dividing"
   ]
  },
  {
   "cell_type": "markdown",
   "id": "c5766b2a",
   "metadata": {},
   "source": [
    "string"
   ]
  },
  {
   "cell_type": "code",
   "execution_count": 17,
   "id": "9e461b66",
   "metadata": {},
   "outputs": [
    {
     "data": {
      "text/plain": [
       "'python'"
      ]
     },
     "execution_count": 17,
     "metadata": {},
     "output_type": "execute_result"
    }
   ],
   "source": [
    "name=\"python\"\n",
    "name"
   ]
  },
  {
   "cell_type": "code",
   "execution_count": 18,
   "id": "1bd25123",
   "metadata": {},
   "outputs": [
    {
     "data": {
      "text/plain": [
       "str"
      ]
     },
     "execution_count": 18,
     "metadata": {},
     "output_type": "execute_result"
    }
   ],
   "source": [
    "type(name)"
   ]
  },
  {
   "cell_type": "code",
   "execution_count": 20,
   "id": "754a5367",
   "metadata": {},
   "outputs": [
    {
     "data": {
      "text/plain": [
       "str"
      ]
     },
     "execution_count": 20,
     "metadata": {},
     "output_type": "execute_result"
    }
   ],
   "source": [
    "name1='hyderabad'\n",
    "type(name1)"
   ]
  },
  {
   "cell_type": "code",
   "execution_count": 21,
   "id": "d04891da",
   "metadata": {},
   "outputs": [],
   "source": [
    "import random"
   ]
  },
  {
   "cell_type": "markdown",
   "id": "7429aab7",
   "metadata": {},
   "source": [
    "boolen"
   ]
  },
  {
   "cell_type": "code",
   "execution_count": 24,
   "id": "38c7e317",
   "metadata": {},
   "outputs": [
    {
     "data": {
      "text/plain": [
       "bool"
      ]
     },
     "execution_count": 24,
     "metadata": {},
     "output_type": "execute_result"
    }
   ],
   "source": [
    "value=True\n",
    "type(value)"
   ]
  },
  {
   "cell_type": "markdown",
   "id": "5da6d76a",
   "metadata": {},
   "source": [
    "- It represent as a+bj\n",
    "- where a is real number\n",
    "- b is an imaginary number\n",
    "- ex: 3+4j"
   ]
  },
  {
   "cell_type": "code",
   "execution_count": 25,
   "id": "2946d91e",
   "metadata": {},
   "outputs": [
    {
     "data": {
      "text/plain": [
       "complex"
      ]
     },
     "execution_count": 25,
     "metadata": {},
     "output_type": "execute_result"
    }
   ],
   "source": [
    "value=3+4j\n",
    "type(value)"
   ]
  },
  {
   "cell_type": "code",
   "execution_count": 26,
   "id": "ae5a573d",
   "metadata": {},
   "outputs": [
    {
     "data": {
      "text/plain": [
       "['__abs__',\n",
       " '__add__',\n",
       " '__bool__',\n",
       " '__class__',\n",
       " '__complex__',\n",
       " '__delattr__',\n",
       " '__dir__',\n",
       " '__doc__',\n",
       " '__eq__',\n",
       " '__format__',\n",
       " '__ge__',\n",
       " '__getattribute__',\n",
       " '__getnewargs__',\n",
       " '__getstate__',\n",
       " '__gt__',\n",
       " '__hash__',\n",
       " '__init__',\n",
       " '__init_subclass__',\n",
       " '__le__',\n",
       " '__lt__',\n",
       " '__mul__',\n",
       " '__ne__',\n",
       " '__neg__',\n",
       " '__new__',\n",
       " '__pos__',\n",
       " '__pow__',\n",
       " '__radd__',\n",
       " '__reduce__',\n",
       " '__reduce_ex__',\n",
       " '__repr__',\n",
       " '__rmul__',\n",
       " '__rpow__',\n",
       " '__rsub__',\n",
       " '__rtruediv__',\n",
       " '__setattr__',\n",
       " '__sizeof__',\n",
       " '__str__',\n",
       " '__sub__',\n",
       " '__subclasshook__',\n",
       " '__truediv__',\n",
       " 'conjugate',\n",
       " 'imag',\n",
       " 'real']"
      ]
     },
     "execution_count": 26,
     "metadata": {},
     "output_type": "execute_result"
    }
   ],
   "source": [
    "dir(value)"
   ]
  },
  {
   "cell_type": "code",
   "execution_count": null,
   "id": "3e3231aa",
   "metadata": {},
   "outputs": [],
   "source": []
  }
 ],
 "metadata": {
  "kernelspec": {
   "display_name": "Python 3 (ipykernel)",
   "language": "python",
   "name": "python3"
  },
  "language_info": {
   "codemirror_mode": {
    "name": "ipython",
    "version": 3
   },
   "file_extension": ".py",
   "mimetype": "text/x-python",
   "name": "python",
   "nbconvert_exporter": "python",
   "pygments_lexer": "ipython3",
   "version": "3.11.5"
  }
 },
 "nbformat": 4,
 "nbformat_minor": 5
}
